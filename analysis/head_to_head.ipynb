{
 "cells": [
  {
   "cell_type": "markdown",
   "id": "2696e50b",
   "metadata": {},
   "source": [
    "Setup and Data Load"
   ]
  },
  {
   "cell_type": "code",
   "execution_count": null,
   "id": "7cbff2a7",
   "metadata": {},
   "outputs": [
    {
     "ename": "FileNotFoundError",
     "evalue": "[WinError 3] The system cannot find the path specified: 'results'",
     "output_type": "error",
     "traceback": [
      "\u001b[31m---------------------------------------------------------------------------\u001b[39m",
      "\u001b[31mFileNotFoundError\u001b[39m                         Traceback (most recent call last)",
      "\u001b[36mCell\u001b[39m\u001b[36m \u001b[39m\u001b[32mIn[1]\u001b[39m\u001b[32m, line 10\u001b[39m\n\u001b[32m      7\u001b[39m plots_dir = \u001b[33m\"\u001b[39m\u001b[33mplots\u001b[39m\u001b[33m\"\u001b[39m\n\u001b[32m      8\u001b[39m os.makedirs(plots_dir, exist_ok=\u001b[38;5;28;01mTrue\u001b[39;00m)\n\u001b[32m---> \u001b[39m\u001b[32m10\u001b[39m files = [f \u001b[38;5;28;01mfor\u001b[39;00m f \u001b[38;5;129;01min\u001b[39;00m \u001b[43mos\u001b[49m\u001b[43m.\u001b[49m\u001b[43mlistdir\u001b[49m\u001b[43m(\u001b[49m\u001b[43mresults_dir\u001b[49m\u001b[43m)\u001b[49m \u001b[38;5;28;01mif\u001b[39;00m f.endswith(\u001b[33m'\u001b[39m\u001b[33m_scores.csv\u001b[39m\u001b[33m'\u001b[39m)]\n\u001b[32m     11\u001b[39m strategies = [f.replace(\u001b[33m'\u001b[39m\u001b[33m_scores.csv\u001b[39m\u001b[33m'\u001b[39m, \u001b[33m'\u001b[39m\u001b[33m'\u001b[39m) \u001b[38;5;28;01mfor\u001b[39;00m f \u001b[38;5;129;01min\u001b[39;00m files]\n\u001b[32m     12\u001b[39m data = {s: pd.read_csv(os.path.join(results_dir, \u001b[33mf\u001b[39m\u001b[33m\"\u001b[39m\u001b[38;5;132;01m{\u001b[39;00ms\u001b[38;5;132;01m}\u001b[39;00m\u001b[33m_scores.csv\u001b[39m\u001b[33m\"\u001b[39m))[\u001b[33m'\u001b[39m\u001b[33mscore\u001b[39m\u001b[33m'\u001b[39m].values \u001b[38;5;28;01mfor\u001b[39;00m s \u001b[38;5;129;01min\u001b[39;00m strategies}\n",
      "\u001b[31mFileNotFoundError\u001b[39m: [WinError 3] The system cannot find the path specified: 'results'"
     ]
    }
   ],
   "source": [
    "import os\n",
    "import pandas as pd\n",
    "import numpy as np\n",
    "import matplotlib.pyplot as plt\n",
    "\n",
    "results_dir = \"../results\"\n",
    "plots_dir = \"../plots\"\n",
    "os.makedirs(plots_dir, exist_ok=True)\n",
    "\n",
    "files = [f for f in os.listdir(results_dir) if f.endswith('_scores.csv')]\n",
    "strategies = [f.replace('_scores.csv', '') for f in files]\n",
    "data = {s: pd.read_csv(os.path.join(results_dir, f\"{s}_scores.csv\"))['score'].values for s in strategies}\n"
   ]
  },
  {
   "cell_type": "markdown",
   "id": "0ec8a4c8",
   "metadata": {},
   "source": [
    "Win rate matrix"
   ]
  },
  {
   "cell_type": "code",
   "execution_count": null,
   "id": "dd263b1f",
   "metadata": {},
   "outputs": [],
   "source": [
    "n_matches = 20000\n",
    "win_matrix = pd.DataFrame(0.0, index=strategies, columns=strategies)\n",
    "\n",
    "for s1 in strategies:\n",
    "    for s2 in strategies:\n",
    "        s1_scores = np.random.choice(data[s1], size=n_matches)\n",
    "        s2_scores = np.random.choice(data[s2], size=n_matches)\n",
    "        win_rate = np.mean(s1_scores > s2_scores)\n",
    "        win_matrix.loc[s1, s2] = round(win_rate, 3)\n",
    "\n",
    "win_matrix\n"
   ]
  },
  {
   "cell_type": "markdown",
   "id": "b96f6cb6",
   "metadata": {},
   "source": [
    "Heatmap plot"
   ]
  },
  {
   "cell_type": "code",
   "execution_count": null,
   "id": "28439678",
   "metadata": {},
   "outputs": [],
   "source": [
    "plt.figure(figsize=(8, 6))\n",
    "im = plt.imshow(win_matrix.values, cmap=\"coolwarm\", vmin=0, vmax=1)\n",
    "plt.colorbar(im, label=\"Win Probability\")\n",
    "plt.xticks(np.arange(len(strategies)), strategies, rotation=45)\n",
    "plt.yticks(np.arange(len(strategies)), strategies)\n",
    "plt.title(\"Head-to-Head Win % Heatmap\")\n",
    "\n",
    "for i in range(len(strategies)):\n",
    "    for j in range(len(strategies)):\n",
    "        plt.text(j, i, f\"{win_matrix.iloc[i, j]:.2f}\", ha=\"center\", va=\"center\", color=\"black\")\n",
    "\n",
    "plt.tight_layout()\n",
    "plt.show()\n"
   ]
  }
 ],
 "metadata": {
  "kernelspec": {
   "display_name": "Python 3",
   "language": "python",
   "name": "python3"
  },
  "language_info": {
   "codemirror_mode": {
    "name": "ipython",
    "version": 3
   },
   "file_extension": ".py",
   "mimetype": "text/x-python",
   "name": "python",
   "nbconvert_exporter": "python",
   "pygments_lexer": "ipython3",
   "version": "3.11.9"
  }
 },
 "nbformat": 4,
 "nbformat_minor": 5
}
